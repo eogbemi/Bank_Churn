{
 "cells": [
  {
   "cell_type": "markdown",
   "id": "6e64268f",
   "metadata": {},
   "source": [
    "### Description\n",
    "\n",
    "#### Etan Ogbemi\n",
    "\n",
    "#### Background and Context\n",
    "\n",
    "Businesses like banks that provide service have to worry about the problem of 'Churn' i.e. customers leaving and joining another service provider. It is important to understand which aspects of the service influence a customer's decision in this regard. Management can concentrate efforts on the improvement of service, keeping in mind these priorities.\n",
    "\n",
    "Objective\n",
    "\n",
    "Given a Bank customer, build a neural network-based classifier that can determine whether they will leave or not in the next 6 months.\n",
    "\n",
    "Data Description\n",
    "\n",
    "The case study is from an open-source dataset from Kaggle. The dataset contains 10,000 sample points with 14 distinct features such as CustomerId, CreditScore, Geography, Gender, Age, Tenure, Balance, etc.\n",
    "\n",
    "Data Dictionary\n",
    "\n",
    "* CustomerId: Unique ID which is assigned to each customer\n",
    "* Surname: Last name of the customer \n",
    "* CreditScore: It defines the credit history of the customer.  \n",
    "* Geography: A customer’s location    \n",
    "* Gender: It defines the Gender of the customer   \n",
    "* Age: Age of the customer     \n",
    "* Tenure: Number of years for which the customer has been with the bank\n",
    "* NumOfProducts: It refers to the number of products that a customer has purchased through the bank.\n",
    "* Balance: Account balance\n",
    "* HasCrCard: It is a categorical variable that decides whether the customer has a credit card or not.\n",
    "* EstimatedSalary: Estimated salary \n",
    "* isActiveMember: It is a categorical variable that decides whether the customer is an active member of the bank or not ( Active member in the sense, using bank products regularly, making transactions, etc )\n",
    "* Excited: It is a categorical variable that decides whether the customer left the bank within six months or not. It can take two values \n",
    "                    0=No ( Customer did not leave the bank )\n",
    "\n",
    "                    1=Yes ( Customer left the bank )"
   ]
  },
  {
   "cell_type": "code",
   "execution_count": null,
   "id": "1d2359db",
   "metadata": {},
   "outputs": [],
   "source": []
  }
 ],
 "metadata": {
  "kernelspec": {
   "display_name": "Python 3 (ipykernel)",
   "language": "python",
   "name": "python3"
  },
  "language_info": {
   "codemirror_mode": {
    "name": "ipython",
    "version": 3
   },
   "file_extension": ".py",
   "mimetype": "text/x-python",
   "name": "python",
   "nbconvert_exporter": "python",
   "pygments_lexer": "ipython3",
   "version": "3.8.12"
  }
 },
 "nbformat": 4,
 "nbformat_minor": 5
}
